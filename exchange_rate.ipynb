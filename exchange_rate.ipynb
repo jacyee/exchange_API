{
 "cells": [
  {
   "cell_type": "code",
   "execution_count": 2,
   "metadata": {},
   "outputs": [],
   "source": [
    "import requests\n",
    "import json"
   ]
  },
  {
   "cell_type": "code",
   "execution_count": 3,
   "metadata": {},
   "outputs": [],
   "source": [
    "base_url='http://api.exchangeratesapi.io/v1/latest?access_key=923a7a7b9dfd31acf0ac35aeedffe409'"
   ]
  },
  {
   "cell_type": "code",
   "execution_count": 6,
   "metadata": {},
   "outputs": [
    {
     "data": {
      "text/plain": [
       "'{\"success\":true,\"timestamp\":1639664944,\"base\":\"EUR\",\"date\":\"2021-12-16\",\"rates\":{\"AED\":4.164533,\"AFN\":125.265013,\"ALL\":121.053076,\"AMD\":544.243881,\"ANG\":2.041805,\"AOA\":632.610125,\"ARS\":115.521196,\"AUD\":1.573085,\"AWG\":2.041395,\"AZN\":1.939876,\"BAM\":1.961389,\"BBD\":2.287503,\"BDT\":97.162725,\"BGN\":1.955907,\"BHD\":0.427501,\"BIF\":2258.550264,\"BMD\":1.133793,\"BND\":1.545694,\"BOB\":7.823082,\"BRL\":6.458765,\"BSD\":1.132931,\"BTC\":2.3253941e-5,\"BTN\":86.183974,\"BWP\":13.344437,\"BYN\":2.866323,\"BYR\":22222.348199,\"BZD\":2.283612,\"CAD\":1.448869,\"CDF\":2268.720099,\"CHF\":1.043787,\"CLF\":0.034974,\"CLP\":964.823626,\"CNY\":7.220454,\"COP\":4537.440688,\"CRC\":723.784039,\"CUC\":1.133793,\"CUP\":30.045522,\"CVE\":110.578389,\"CZK\":25.332317,\"DJF\":201.706778,\"DKK\":7.43596,\"DOP\":64.407104,\"DZD\":157.287842,\"EGP\":17.811211,\"ERN\":17.006988,\"ETB\":55.286387,\"EUR\":1,\"FJD\":2.422688,\"FKP\":0.85531,\"GBP\":0.849648,\"GEL\":3.509055,\"GGP\":0.85531,\"GHS\":6.995727,\"GIP\":0.85531,\"GMD\":59.807945,\"GNF\":10744.551056,\"GTQ\":8.760576,\"GYD\":237.206449,\"HKD\":8.844097,\"HNL\":27.454049,\"HRK\":7.517611,\"HTG\":114.425301,\"HUF\":369.464659,\"IDR\":16274.298607,\"ILS\":3.523013,\"IMP\":0.85531,\"INR\":86.458571,\"IQD\":1653.546304,\"IRR\":47902.766368,\"ISK\":146.577268,\"JEP\":0.85531,\"JMD\":174.612408,\"JOD\":0.803831,\"JPY\":129.170235,\"KES\":128.02762,\"KGS\":96.133769,\"KHR\":4613.315253,\"KMF\":495.750655,\"KPW\":1020.41386,\"KRW\":1342.241259,\"KWD\":0.343743,\"KYD\":0.944084,\"KZT\":496.156153,\"LAK\":12552.071927,\"LBP\":1713.022855,\"LKR\":228.851104,\"LRD\":160.488164,\"LSL\":18.379318,\"LTL\":3.347797,\"LVL\":0.68582,\"LYD\":5.21643,\"MAD\":10.495946,\"MDL\":20.075295,\"MGA\":4498.407608,\"MKD\":61.790119,\"MMK\":2016.608342,\"MNT\":3240.817298,\"MOP\":9.104283,\"MRO\":404.764004,\"MUR\":48.86534,\"MVR\":17.528629,\"MWK\":925.574819,\"MXN\":23.746223,\"MYR\":4.769299,\"MZN\":72.369951,\"NAD\":18.378631,\"NGN\":464.94617,\"NIO\":40.111387,\"NOK\":10.164083,\"NPR\":137.890009,\"NZD\":1.662215,\"OMR\":0.436521,\"PAB\":1.132931,\"PEN\":4.594302,\"PGK\":4.012507,\"PHP\":56.672611,\"PKR\":201.887348,\"PLN\":4.637573,\"PYG\":7685.2808,\"QAR\":4.128119,\"RON\":4.949462,\"RSD\":117.568933,\"RUB\":83.35773,\"RWF\":1174.559169,\"SAR\":4.254817,\"SBD\":9.184304,\"SCR\":14.949671,\"SDG\":496.038258,\"SEK\":10.222586,\"SGD\":1.546165,\"SHP\":1.561688,\"SLL\":12734.766022,\"SOS\":663.268949,\"SRD\":24.402618,\"STD\":23467.231683,\"SVC\":9.91327,\"SYP\":2848.647422,\"SZL\":18.067364,\"THB\":37.901009,\"TJS\":12.80138,\"TMT\":3.968276,\"TND\":3.274365,\"TOP\":2.599051,\"TRY\":17.673717,\"TTD\":7.696649,\"TWD\":31.541451,\"TZS\":2613.39393,\"UAH\":30.832181,\"UGX\":4038.917915,\"USD\":1.133793,\"UYU\":50.177207,\"UZS\":12281.055653,\"VEF\":242439268179.60742,\"VND\":26068.741886,\"VUV\":128.405096,\"WST\":2.948056,\"XAF\":657.827145,\"XAG\":0.05086,\"XAU\":0.000634,\"XCD\":3.064133,\"XDR\":0.811306,\"XOF\":657.821327,\"XPF\":120.579051,\"YER\":283.731799,\"ZAR\":18.131172,\"ZMK\":10205.498305,\"ZMW\":18.582721,\"ZWL\":365.080972}}'"
      ]
     },
     "execution_count": 6,
     "metadata": {},
     "output_type": "execute_result"
    }
   ],
   "source": [
    "response = requests.get(base_url)\n",
    "response.text"
   ]
  },
  {
   "cell_type": "code",
   "execution_count": 7,
   "metadata": {},
   "outputs": [
    {
     "data": {
      "text/plain": [
       "200"
      ]
     },
     "execution_count": 7,
     "metadata": {},
     "output_type": "execute_result"
    }
   ],
   "source": [
    "response.status_code"
   ]
  },
  {
   "cell_type": "code",
   "execution_count": 11,
   "metadata": {},
   "outputs": [
    {
     "data": {
      "text/plain": [
       "{'success': True,\n",
       " 'timestamp': 1639664944,\n",
       " 'base': 'EUR',\n",
       " 'date': '2021-12-16',\n",
       " 'rates': {'AED': 4.164533,\n",
       "  'AFN': 125.265013,\n",
       "  'ALL': 121.053076,\n",
       "  'AMD': 544.243881,\n",
       "  'ANG': 2.041805,\n",
       "  'AOA': 632.610125,\n",
       "  'ARS': 115.521196,\n",
       "  'AUD': 1.573085,\n",
       "  'AWG': 2.041395,\n",
       "  'AZN': 1.939876,\n",
       "  'BAM': 1.961389,\n",
       "  'BBD': 2.287503,\n",
       "  'BDT': 97.162725,\n",
       "  'BGN': 1.955907,\n",
       "  'BHD': 0.427501,\n",
       "  'BIF': 2258.550264,\n",
       "  'BMD': 1.133793,\n",
       "  'BND': 1.545694,\n",
       "  'BOB': 7.823082,\n",
       "  'BRL': 6.458765,\n",
       "  'BSD': 1.132931,\n",
       "  'BTC': 2.3253941e-05,\n",
       "  'BTN': 86.183974,\n",
       "  'BWP': 13.344437,\n",
       "  'BYN': 2.866323,\n",
       "  'BYR': 22222.348199,\n",
       "  'BZD': 2.283612,\n",
       "  'CAD': 1.448869,\n",
       "  'CDF': 2268.720099,\n",
       "  'CHF': 1.043787,\n",
       "  'CLF': 0.034974,\n",
       "  'CLP': 964.823626,\n",
       "  'CNY': 7.220454,\n",
       "  'COP': 4537.440688,\n",
       "  'CRC': 723.784039,\n",
       "  'CUC': 1.133793,\n",
       "  'CUP': 30.045522,\n",
       "  'CVE': 110.578389,\n",
       "  'CZK': 25.332317,\n",
       "  'DJF': 201.706778,\n",
       "  'DKK': 7.43596,\n",
       "  'DOP': 64.407104,\n",
       "  'DZD': 157.287842,\n",
       "  'EGP': 17.811211,\n",
       "  'ERN': 17.006988,\n",
       "  'ETB': 55.286387,\n",
       "  'EUR': 1,\n",
       "  'FJD': 2.422688,\n",
       "  'FKP': 0.85531,\n",
       "  'GBP': 0.849648,\n",
       "  'GEL': 3.509055,\n",
       "  'GGP': 0.85531,\n",
       "  'GHS': 6.995727,\n",
       "  'GIP': 0.85531,\n",
       "  'GMD': 59.807945,\n",
       "  'GNF': 10744.551056,\n",
       "  'GTQ': 8.760576,\n",
       "  'GYD': 237.206449,\n",
       "  'HKD': 8.844097,\n",
       "  'HNL': 27.454049,\n",
       "  'HRK': 7.517611,\n",
       "  'HTG': 114.425301,\n",
       "  'HUF': 369.464659,\n",
       "  'IDR': 16274.298607,\n",
       "  'ILS': 3.523013,\n",
       "  'IMP': 0.85531,\n",
       "  'INR': 86.458571,\n",
       "  'IQD': 1653.546304,\n",
       "  'IRR': 47902.766368,\n",
       "  'ISK': 146.577268,\n",
       "  'JEP': 0.85531,\n",
       "  'JMD': 174.612408,\n",
       "  'JOD': 0.803831,\n",
       "  'JPY': 129.170235,\n",
       "  'KES': 128.02762,\n",
       "  'KGS': 96.133769,\n",
       "  'KHR': 4613.315253,\n",
       "  'KMF': 495.750655,\n",
       "  'KPW': 1020.41386,\n",
       "  'KRW': 1342.241259,\n",
       "  'KWD': 0.343743,\n",
       "  'KYD': 0.944084,\n",
       "  'KZT': 496.156153,\n",
       "  'LAK': 12552.071927,\n",
       "  'LBP': 1713.022855,\n",
       "  'LKR': 228.851104,\n",
       "  'LRD': 160.488164,\n",
       "  'LSL': 18.379318,\n",
       "  'LTL': 3.347797,\n",
       "  'LVL': 0.68582,\n",
       "  'LYD': 5.21643,\n",
       "  'MAD': 10.495946,\n",
       "  'MDL': 20.075295,\n",
       "  'MGA': 4498.407608,\n",
       "  'MKD': 61.790119,\n",
       "  'MMK': 2016.608342,\n",
       "  'MNT': 3240.817298,\n",
       "  'MOP': 9.104283,\n",
       "  'MRO': 404.764004,\n",
       "  'MUR': 48.86534,\n",
       "  'MVR': 17.528629,\n",
       "  'MWK': 925.574819,\n",
       "  'MXN': 23.746223,\n",
       "  'MYR': 4.769299,\n",
       "  'MZN': 72.369951,\n",
       "  'NAD': 18.378631,\n",
       "  'NGN': 464.94617,\n",
       "  'NIO': 40.111387,\n",
       "  'NOK': 10.164083,\n",
       "  'NPR': 137.890009,\n",
       "  'NZD': 1.662215,\n",
       "  'OMR': 0.436521,\n",
       "  'PAB': 1.132931,\n",
       "  'PEN': 4.594302,\n",
       "  'PGK': 4.012507,\n",
       "  'PHP': 56.672611,\n",
       "  'PKR': 201.887348,\n",
       "  'PLN': 4.637573,\n",
       "  'PYG': 7685.2808,\n",
       "  'QAR': 4.128119,\n",
       "  'RON': 4.949462,\n",
       "  'RSD': 117.568933,\n",
       "  'RUB': 83.35773,\n",
       "  'RWF': 1174.559169,\n",
       "  'SAR': 4.254817,\n",
       "  'SBD': 9.184304,\n",
       "  'SCR': 14.949671,\n",
       "  'SDG': 496.038258,\n",
       "  'SEK': 10.222586,\n",
       "  'SGD': 1.546165,\n",
       "  'SHP': 1.561688,\n",
       "  'SLL': 12734.766022,\n",
       "  'SOS': 663.268949,\n",
       "  'SRD': 24.402618,\n",
       "  'STD': 23467.231683,\n",
       "  'SVC': 9.91327,\n",
       "  'SYP': 2848.647422,\n",
       "  'SZL': 18.067364,\n",
       "  'THB': 37.901009,\n",
       "  'TJS': 12.80138,\n",
       "  'TMT': 3.968276,\n",
       "  'TND': 3.274365,\n",
       "  'TOP': 2.599051,\n",
       "  'TRY': 17.673717,\n",
       "  'TTD': 7.696649,\n",
       "  'TWD': 31.541451,\n",
       "  'TZS': 2613.39393,\n",
       "  'UAH': 30.832181,\n",
       "  'UGX': 4038.917915,\n",
       "  'USD': 1.133793,\n",
       "  'UYU': 50.177207,\n",
       "  'UZS': 12281.055653,\n",
       "  'VEF': 242439268179.60742,\n",
       "  'VND': 26068.741886,\n",
       "  'VUV': 128.405096,\n",
       "  'WST': 2.948056,\n",
       "  'XAF': 657.827145,\n",
       "  'XAG': 0.05086,\n",
       "  'XAU': 0.000634,\n",
       "  'XCD': 3.064133,\n",
       "  'XDR': 0.811306,\n",
       "  'XOF': 657.821327,\n",
       "  'XPF': 120.579051,\n",
       "  'YER': 283.731799,\n",
       "  'ZAR': 18.131172,\n",
       "  'ZMK': 10205.498305,\n",
       "  'ZMW': 18.582721,\n",
       "  'ZWL': 365.080972}}"
      ]
     },
     "execution_count": 11,
     "metadata": {},
     "output_type": "execute_result"
    }
   ],
   "source": [
    "response.json()"
   ]
  },
  {
   "cell_type": "code",
   "execution_count": 12,
   "metadata": {},
   "outputs": [
    {
     "data": {
      "text/plain": [
       "'{\"success\": true, \"timestamp\": 1639664944, \"base\": \"EUR\", \"date\": \"2021-12-16\", \"rates\": {\"AED\": 4.164533, \"AFN\": 125.265013, \"ALL\": 121.053076, \"AMD\": 544.243881, \"ANG\": 2.041805, \"AOA\": 632.610125, \"ARS\": 115.521196, \"AUD\": 1.573085, \"AWG\": 2.041395, \"AZN\": 1.939876, \"BAM\": 1.961389, \"BBD\": 2.287503, \"BDT\": 97.162725, \"BGN\": 1.955907, \"BHD\": 0.427501, \"BIF\": 2258.550264, \"BMD\": 1.133793, \"BND\": 1.545694, \"BOB\": 7.823082, \"BRL\": 6.458765, \"BSD\": 1.132931, \"BTC\": 2.3253941e-05, \"BTN\": 86.183974, \"BWP\": 13.344437, \"BYN\": 2.866323, \"BYR\": 22222.348199, \"BZD\": 2.283612, \"CAD\": 1.448869, \"CDF\": 2268.720099, \"CHF\": 1.043787, \"CLF\": 0.034974, \"CLP\": 964.823626, \"CNY\": 7.220454, \"COP\": 4537.440688, \"CRC\": 723.784039, \"CUC\": 1.133793, \"CUP\": 30.045522, \"CVE\": 110.578389, \"CZK\": 25.332317, \"DJF\": 201.706778, \"DKK\": 7.43596, \"DOP\": 64.407104, \"DZD\": 157.287842, \"EGP\": 17.811211, \"ERN\": 17.006988, \"ETB\": 55.286387, \"EUR\": 1, \"FJD\": 2.422688, \"FKP\": 0.85531, \"GBP\": 0.849648, \"GEL\": 3.509055, \"GGP\": 0.85531, \"GHS\": 6.995727, \"GIP\": 0.85531, \"GMD\": 59.807945, \"GNF\": 10744.551056, \"GTQ\": 8.760576, \"GYD\": 237.206449, \"HKD\": 8.844097, \"HNL\": 27.454049, \"HRK\": 7.517611, \"HTG\": 114.425301, \"HUF\": 369.464659, \"IDR\": 16274.298607, \"ILS\": 3.523013, \"IMP\": 0.85531, \"INR\": 86.458571, \"IQD\": 1653.546304, \"IRR\": 47902.766368, \"ISK\": 146.577268, \"JEP\": 0.85531, \"JMD\": 174.612408, \"JOD\": 0.803831, \"JPY\": 129.170235, \"KES\": 128.02762, \"KGS\": 96.133769, \"KHR\": 4613.315253, \"KMF\": 495.750655, \"KPW\": 1020.41386, \"KRW\": 1342.241259, \"KWD\": 0.343743, \"KYD\": 0.944084, \"KZT\": 496.156153, \"LAK\": 12552.071927, \"LBP\": 1713.022855, \"LKR\": 228.851104, \"LRD\": 160.488164, \"LSL\": 18.379318, \"LTL\": 3.347797, \"LVL\": 0.68582, \"LYD\": 5.21643, \"MAD\": 10.495946, \"MDL\": 20.075295, \"MGA\": 4498.407608, \"MKD\": 61.790119, \"MMK\": 2016.608342, \"MNT\": 3240.817298, \"MOP\": 9.104283, \"MRO\": 404.764004, \"MUR\": 48.86534, \"MVR\": 17.528629, \"MWK\": 925.574819, \"MXN\": 23.746223, \"MYR\": 4.769299, \"MZN\": 72.369951, \"NAD\": 18.378631, \"NGN\": 464.94617, \"NIO\": 40.111387, \"NOK\": 10.164083, \"NPR\": 137.890009, \"NZD\": 1.662215, \"OMR\": 0.436521, \"PAB\": 1.132931, \"PEN\": 4.594302, \"PGK\": 4.012507, \"PHP\": 56.672611, \"PKR\": 201.887348, \"PLN\": 4.637573, \"PYG\": 7685.2808, \"QAR\": 4.128119, \"RON\": 4.949462, \"RSD\": 117.568933, \"RUB\": 83.35773, \"RWF\": 1174.559169, \"SAR\": 4.254817, \"SBD\": 9.184304, \"SCR\": 14.949671, \"SDG\": 496.038258, \"SEK\": 10.222586, \"SGD\": 1.546165, \"SHP\": 1.561688, \"SLL\": 12734.766022, \"SOS\": 663.268949, \"SRD\": 24.402618, \"STD\": 23467.231683, \"SVC\": 9.91327, \"SYP\": 2848.647422, \"SZL\": 18.067364, \"THB\": 37.901009, \"TJS\": 12.80138, \"TMT\": 3.968276, \"TND\": 3.274365, \"TOP\": 2.599051, \"TRY\": 17.673717, \"TTD\": 7.696649, \"TWD\": 31.541451, \"TZS\": 2613.39393, \"UAH\": 30.832181, \"UGX\": 4038.917915, \"USD\": 1.133793, \"UYU\": 50.177207, \"UZS\": 12281.055653, \"VEF\": 242439268179.60742, \"VND\": 26068.741886, \"VUV\": 128.405096, \"WST\": 2.948056, \"XAF\": 657.827145, \"XAG\": 0.05086, \"XAU\": 0.000634, \"XCD\": 3.064133, \"XDR\": 0.811306, \"XOF\": 657.821327, \"XPF\": 120.579051, \"YER\": 283.731799, \"ZAR\": 18.131172, \"ZMK\": 10205.498305, \"ZMW\": 18.582721, \"ZWL\": 365.080972}}'"
      ]
     },
     "execution_count": 12,
     "metadata": {},
     "output_type": "execute_result"
    }
   ],
   "source": [
    "# get exchange rate response as json string\n",
    "json.dumps(response.json())"
   ]
  },
  {
   "cell_type": "code",
   "execution_count": 7,
   "metadata": {},
   "outputs": [
    {
     "data": {
      "text/plain": [
       "'http://api.exchangeratesapi.io/v1/latest?access_key=923a7a7b9dfd31acf0ac35aeedffe409&symbols=USD,GBP,CAD'"
      ]
     },
     "execution_count": 7,
     "metadata": {},
     "output_type": "execute_result"
    }
   ],
   "source": [
    "#incorporate parameter in request url to only query some currencies\n",
    "param_url = base_url+'&symbols=USD,GBP,CAD'\n",
    "param_url"
   ]
  },
  {
   "cell_type": "code",
   "execution_count": 8,
   "metadata": {},
   "outputs": [
    {
     "data": {
      "text/plain": [
       "'{\"success\":true,\"timestamp\":1637562856,\"base\":\"EUR\",\"date\":\"2021-11-22\",\"rates\":{\"USD\":1.127256,\"GBP\":0.838726,\"CAD\":1.424756}}'"
      ]
     },
     "execution_count": 8,
     "metadata": {},
     "output_type": "execute_result"
    }
   ],
   "source": [
    "response = requests.get(param_url)\n",
    "response.text"
   ]
  },
  {
   "cell_type": "code",
   "execution_count": 9,
   "metadata": {},
   "outputs": [
    {
     "data": {
      "text/plain": [
       "{'success': True,\n",
       " 'timestamp': 1637562856,\n",
       " 'base': 'EUR',\n",
       " 'date': '2021-11-22',\n",
       " 'rates': {'USD': 1.127256, 'GBP': 0.838726, 'CAD': 1.424756}}"
      ]
     },
     "execution_count": 9,
     "metadata": {},
     "output_type": "execute_result"
    }
   ],
   "source": [
    "#convert to dict \n",
    "data = response.json()\n",
    "data"
   ]
  },
  {
   "cell_type": "code",
   "execution_count": 10,
   "metadata": {},
   "outputs": [
    {
     "data": {
      "text/plain": [
       "{'USD': 1.127256, 'GBP': 0.838726, 'CAD': 1.424756}"
      ]
     },
     "execution_count": 10,
     "metadata": {},
     "output_type": "execute_result"
    }
   ],
   "source": [
    "data['rates']"
   ]
  },
  {
   "cell_type": "code",
   "execution_count": 11,
   "metadata": {},
   "outputs": [
    {
     "data": {
      "text/plain": [
       "'http://api.exchangeratesapi.io/v1/latest?access_key=923a7a7b9dfd31acf0ac35aeedffe409&symbols=HKD&base=EUR'"
      ]
     },
     "execution_count": 11,
     "metadata": {},
     "output_type": "execute_result"
    }
   ],
   "source": [
    "# only want to know HKD rate\n",
    "param_url = base_url+'&symbols=HKD'+'&'+'base=EUR'\n",
    "param_url"
   ]
  },
  {
   "cell_type": "code",
   "execution_count": 12,
   "metadata": {},
   "outputs": [
    {
     "data": {
      "text/plain": [
       "{'success': True,\n",
       " 'timestamp': 1637562856,\n",
       " 'base': 'EUR',\n",
       " 'date': '2021-11-22',\n",
       " 'rates': {'HKD': 8.782933}}"
      ]
     },
     "execution_count": 12,
     "metadata": {},
     "output_type": "execute_result"
    }
   ],
   "source": [
    "data = requests.get(param_url).json()\n",
    "data"
   ]
  },
  {
   "cell_type": "code",
   "execution_count": 13,
   "metadata": {},
   "outputs": [
    {
     "data": {
      "text/plain": [
       "8.782933"
      ]
     },
     "execution_count": 13,
     "metadata": {},
     "output_type": "execute_result"
    }
   ],
   "source": [
    "eur_to_hkd = data['rates']['HKD']\n",
    "eur_to_hkd"
   ]
  },
  {
   "cell_type": "code",
   "execution_count": 14,
   "metadata": {},
   "outputs": [
    {
     "name": "stdout",
     "output_type": "stream",
     "text": [
      "{\n",
      "    \"success\": true,\n",
      "    \"timestamp\": 1637562856,\n",
      "    \"base\": \"EUR\",\n",
      "    \"date\": \"2021-11-22\",\n",
      "    \"rates\": {\n",
      "        \"HKD\": 8.782933\n",
      "    }\n",
      "}\n"
     ]
    }
   ],
   "source": [
    "# convert to json string\n",
    "print(json.dumps(data,indent=4))"
   ]
  },
  {
   "cell_type": "code",
   "execution_count": 15,
   "metadata": {},
   "outputs": [
    {
     "data": {
      "text/plain": [
       "'http://api.exchangeratesapi.io/v1/timeseries?access_key=923a7a7b9dfd31acf0ac35aeedffe409&start_date=2019-01-01&end_date=2020-04-20'"
      ]
     },
     "execution_count": 15,
     "metadata": {},
     "output_type": "execute_result"
    }
   ],
   "source": [
    "# extract data for time period\n",
    "base_url_1='http://api.exchangeratesapi.io/v1/timeseries'+'?access_key=923a7a7b9dfd31acf0ac35aeedffe409'+'&start_date=2019-01-01&end_date=2020-04-20'\n",
    "base_url_1"
   ]
  },
  {
   "cell_type": "code",
   "execution_count": 16,
   "metadata": {},
   "outputs": [
    {
     "name": "stdout",
     "output_type": "stream",
     "text": [
      "{\n",
      "    \"error\": {\n",
      "        \"code\": \"function_access_restricted\",\n",
      "        \"message\": \"Access Restricted - Your current Subscription Plan does not support this API Function.\"\n",
      "    }\n",
      "}\n"
     ]
    }
   ],
   "source": [
    "data = requests.get(base_url_1).json()\n",
    "print(json.dumps(data,indent=4,sort_keys=True))\n"
   ]
  },
  {
   "cell_type": "code",
   "execution_count": 21,
   "metadata": {},
   "outputs": [
    {
     "name": "stdout",
     "output_type": "stream",
     "text": [
      "please input date or 'latest' latest\n",
      "please input currency to convert to from EUR HKD\n",
      "please input qty to convert to 10\n",
      "\n",
      "10.0EUR is equal to 87.82933HKD based on exchange rate on 2021-11-22\n"
     ]
    }
   ],
   "source": [
    "# currency converter\n",
    "base_url='http://api.exchangeratesapi.io/v1'\n",
    "date = input(\"please input date or 'latest' \")\n",
    "curr = input(\"please input currency to convert to from EUR \")\n",
    "qty = float(input(\"please input qty to convert to \"))\n",
    "base = \"EUR\"\n",
    "\n",
    "url = base_url+\"/\"+date+\"?access_key=923a7a7b9dfd31acf0ac35aeedffe409\"+\"&symbols=\"+curr\n",
    "response = requests.get(url)\n",
    "\n",
    "if (response.ok is False):\n",
    "    print(response.json()['error'])\n",
    "else:\n",
    "    data = response.json()\n",
    "    rate = data['rates'][curr]\n",
    "    result = qty*rate\n",
    "    \n",
    "    print(\"\\n{0}{1} is equal to {2}{3} based on exchange rate on {4}\".format(qty,base,result,curr,data['date']))"
   ]
  },
  {
   "cell_type": "code",
   "execution_count": null,
   "metadata": {},
   "outputs": [],
   "source": []
  }
 ],
 "metadata": {
  "kernelspec": {
   "display_name": "Python 3.8.1 64-bit",
   "language": "python",
   "name": "python38164bit2c1687f2b73645c4a6a3d2d9ac2c947f"
  },
  "language_info": {
   "codemirror_mode": {
    "name": "ipython",
    "version": 3
   },
   "file_extension": ".py",
   "mimetype": "text/x-python",
   "name": "python",
   "nbconvert_exporter": "python",
   "pygments_lexer": "ipython3",
   "version": "3.8.5"
  }
 },
 "nbformat": 4,
 "nbformat_minor": 4
}
